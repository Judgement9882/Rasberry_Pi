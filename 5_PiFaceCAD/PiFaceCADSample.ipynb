{
 "cells": [
  {
   "cell_type": "markdown",
   "metadata": {},
   "source": [
    "## PiFaceCAD 활용하기\n",
    "LCD 창에 16진수 프린트하기"
   ]
  },
  {
   "cell_type": "code",
   "execution_count": 4,
   "metadata": {},
   "outputs": [
    {
     "ename": "KeyboardInterrupt",
     "evalue": "",
     "output_type": "error",
     "traceback": [
      "\u001b[0;31m---------------------------------------------------------------------------\u001b[0m",
      "\u001b[0;31mKeyboardInterrupt\u001b[0m                         Traceback (most recent call last)",
      "\u001b[1;32m/home/pi/5_PiFaceCAD/PiFaceCADSample.ipynb Cell 2'\u001b[0m in \u001b[0;36m<cell line: 14>\u001b[0;34m()\u001b[0m\n\u001b[1;32m     <a href='vscode-notebook-cell://ssh-remote%2B192.168.0.16/home/pi/5_PiFaceCAD/PiFaceCADSample.ipynb#ch0000001vscode-remote?line=13'>14</a>\u001b[0m a \u001b[39m=\u001b[39m lirc\u001b[39m.\u001b[39mnextcode()\n\u001b[1;32m     <a href='vscode-notebook-cell://ssh-remote%2B192.168.0.16/home/pi/5_PiFaceCAD/PiFaceCADSample.ipynb#ch0000001vscode-remote?line=14'>15</a>\u001b[0m cad\u001b[39m.\u001b[39mlcd\u001b[39m.\u001b[39mwrite(a[\u001b[39m0\u001b[39m])\n\u001b[0;32m---> <a href='vscode-notebook-cell://ssh-remote%2B192.168.0.16/home/pi/5_PiFaceCAD/PiFaceCADSample.ipynb#ch0000001vscode-remote?line=15'>16</a>\u001b[0m time\u001b[39m.\u001b[39;49msleep(\u001b[39m1\u001b[39;49m)\n",
      "\u001b[0;31mKeyboardInterrupt\u001b[0m: "
     ]
    }
   ],
   "source": [
    "import pifacecad\n",
    "import lirc\n",
    "import time\n",
    "cad = pifacecad.PiFaceCAD()\n",
    "cad.lcd.backlight_on()\n",
    "\n",
    "for n in range(16):\n",
    "    #cad.lcd.write(f\"{n:X}\")\n",
    "    cad.lcd.write(f\"{n}\")\n",
    "\n",
    "sockid = lirc.init(\"myprogram\")\n",
    "\n",
    "while True:\n",
    "    a = lirc.nextcode()\n",
    "    cad.lcd.write(a[0])\n",
    "    time.sleep(1)"
   ]
  },
  {
   "cell_type": "markdown",
   "metadata": {},
   "source": [
    "A부터 32개의 ASCII 코드 나타내기"
   ]
  },
  {
   "cell_type": "code",
   "execution_count": null,
   "metadata": {},
   "outputs": [],
   "source": [
    "cad.lcd.clear()\n",
    "for n in range(32):\n",
    "    #cad.lcd.write(chr(65+n))\n",
    "    cad.lcd.write(chr(97+n))\n",
    "    if n == 15:\n",
    "        cad.lcd.set_cursor(0,1)"
   ]
  },
  {
   "cell_type": "markdown",
   "metadata": {},
   "source": [
    "현재 날짜 프린트 하기"
   ]
  },
  {
   "cell_type": "markdown",
   "metadata": {},
   "source": [
    "!pip install pytz"
   ]
  },
  {
   "cell_type": "code",
   "execution_count": null,
   "metadata": {},
   "outputs": [],
   "source": [
    "!pip install pytz"
   ]
  },
  {
   "cell_type": "code",
   "execution_count": null,
   "metadata": {},
   "outputs": [],
   "source": [
    "from datetime import datetime\n",
    "from pytz import timezone\n",
    "\n",
    "cad.lcd.clear()\n",
    "#now = datetime.now()\n",
    "now = datetime.now(timezone('Asia/Seoul'))\n",
    "#now = datetime.now(timezone('Asia/Seoul'))\n",
    "cad.lcd.write(now.strftime(\"%m/%d %I:%M:%S%p\"))\n",
    "cad.lcd.set_cursor(0,1)\n",
    "cad.lcd.write(now.strftime(\"%X\"))"
   ]
  },
  {
   "cell_type": "markdown",
   "metadata": {},
   "source": [
    "타임 존 나타내기"
   ]
  },
  {
   "cell_type": "code",
   "execution_count": null,
   "metadata": {},
   "outputs": [],
   "source": [
    "from datetime import datetime\n",
    "from pytz import timezone\n",
    "\n",
    "cad.lcd.clear()\n",
    "now = datetime.now(timezone('Asia/Seoul'))\n",
    "cad.lcd.write(now.strftime(\"%m/%d%Z%X\"))"
   ]
  },
  {
   "cell_type": "markdown",
   "metadata": {},
   "source": [
    "사용자 비트맵 글자 등록 및 나타내기"
   ]
  },
  {
   "cell_type": "code",
   "execution_count": null,
   "metadata": {},
   "outputs": [],
   "source": [
    "cad.lcd.clear()\n",
    "play = pifacecad.LCDBitmap([  0x1F,\n",
    "  0x11,\n",
    "  0x11,\n",
    "  0x1F,\n",
    "  0x11,\n",
    "  0x11,\n",
    "  0x11,\n",
    "  0x1F])\n",
    "cad.lcd.store_custom_bitmap(0, play)\n",
    "cad.lcd.write_custom_bitmap(0)"
   ]
  },
  {
   "cell_type": "code",
   "execution_count": null,
   "metadata": {},
   "outputs": [],
   "source": []
  }
 ],
 "metadata": {
  "interpreter": {
   "hash": "e7370f93d1d0cde622a1f8e1c04877d8463912d04d973331ad4851f04de6915a"
  },
  "kernelspec": {
   "display_name": "Python 3.9.2 32-bit",
   "language": "python",
   "name": "python3"
  },
  "language_info": {
   "codemirror_mode": {
    "name": "ipython",
    "version": 3
   },
   "file_extension": ".py",
   "mimetype": "text/x-python",
   "name": "python",
   "nbconvert_exporter": "python",
   "pygments_lexer": "ipython3",
   "version": "3.9.2"
  },
  "orig_nbformat": 4
 },
 "nbformat": 4,
 "nbformat_minor": 2
}
